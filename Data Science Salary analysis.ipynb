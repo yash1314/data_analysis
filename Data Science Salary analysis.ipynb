{
 "cells": [
  {
   "cell_type": "code",
   "execution_count": 1,
   "id": "03b9fd1e",
   "metadata": {},
   "outputs": [],
   "source": [
    "import pandas as pd\n",
    "import numpy as np\n",
    "import seaborn as sns\n",
    "import matplotlib.pyplot as plt\n",
    "\n",
    "# !pip install pycountry\n",
    "\n",
    "import pycountry"
   ]
  },
  {
   "cell_type": "markdown",
   "id": "a035d8f4",
   "metadata": {},
   "source": [
    "### 2023 Data Scientists Salary dataset"
   ]
  },
  {
   "cell_type": "markdown",
   "id": "47ed19fa",
   "metadata": {},
   "source": [
    "- work_year:The year the salary was paid.\n",
    "\n",
    "- experience_level: The experience level in the job during the year.\n",
    "\n",
    "- employment_type: The type of employment for the role.\n",
    "\n",
    "- job_title: The role worked in during the year.\n",
    "\n",
    "- salary: The total gross salary amount paid.\n",
    "\n",
    "- salary_currency: The currency of the salary paid as an ISO 4217 currency code.\n",
    "\n",
    "- salaryinusd: The salary in USD.\n",
    "\n",
    "- employee_residence: Employee's primary country of residence during the work year as an ISO 3166 country code.\n",
    "\n",
    "- remote_ratio:The overall amount of work done remotely.\n",
    "\n",
    "- company_location: The country of the employer's main office or contracting branch.\n",
    "\n",
    "- company_size: The median number of people that worked for the company during the year."
   ]
  },
  {
   "cell_type": "code",
   "execution_count": 2,
   "id": "95d57b42",
   "metadata": {},
   "outputs": [],
   "source": [
    "df = pd.read_csv(\"ds_salaries.csv\")"
   ]
  },
  {
   "cell_type": "code",
   "execution_count": 3,
   "id": "1177fca0",
   "metadata": {},
   "outputs": [
    {
     "data": {
      "text/html": [
       "<div>\n",
       "<style scoped>\n",
       "    .dataframe tbody tr th:only-of-type {\n",
       "        vertical-align: middle;\n",
       "    }\n",
       "\n",
       "    .dataframe tbody tr th {\n",
       "        vertical-align: top;\n",
       "    }\n",
       "\n",
       "    .dataframe thead th {\n",
       "        text-align: right;\n",
       "    }\n",
       "</style>\n",
       "<table border=\"1\" class=\"dataframe\">\n",
       "  <thead>\n",
       "    <tr style=\"text-align: right;\">\n",
       "      <th></th>\n",
       "      <th>work_year</th>\n",
       "      <th>experience_level</th>\n",
       "      <th>employment_type</th>\n",
       "      <th>job_title</th>\n",
       "      <th>salary</th>\n",
       "      <th>salary_currency</th>\n",
       "      <th>salary_in_usd</th>\n",
       "      <th>employee_residence</th>\n",
       "      <th>remote_ratio</th>\n",
       "      <th>company_location</th>\n",
       "      <th>company_size</th>\n",
       "    </tr>\n",
       "  </thead>\n",
       "  <tbody>\n",
       "    <tr>\n",
       "      <th>0</th>\n",
       "      <td>2023</td>\n",
       "      <td>SE</td>\n",
       "      <td>FT</td>\n",
       "      <td>Principal Data Scientist</td>\n",
       "      <td>80000</td>\n",
       "      <td>EUR</td>\n",
       "      <td>85847</td>\n",
       "      <td>ES</td>\n",
       "      <td>100</td>\n",
       "      <td>ES</td>\n",
       "      <td>L</td>\n",
       "    </tr>\n",
       "    <tr>\n",
       "      <th>1</th>\n",
       "      <td>2023</td>\n",
       "      <td>MI</td>\n",
       "      <td>CT</td>\n",
       "      <td>ML Engineer</td>\n",
       "      <td>30000</td>\n",
       "      <td>USD</td>\n",
       "      <td>30000</td>\n",
       "      <td>US</td>\n",
       "      <td>100</td>\n",
       "      <td>US</td>\n",
       "      <td>S</td>\n",
       "    </tr>\n",
       "    <tr>\n",
       "      <th>2</th>\n",
       "      <td>2023</td>\n",
       "      <td>MI</td>\n",
       "      <td>CT</td>\n",
       "      <td>ML Engineer</td>\n",
       "      <td>25500</td>\n",
       "      <td>USD</td>\n",
       "      <td>25500</td>\n",
       "      <td>US</td>\n",
       "      <td>100</td>\n",
       "      <td>US</td>\n",
       "      <td>S</td>\n",
       "    </tr>\n",
       "    <tr>\n",
       "      <th>3</th>\n",
       "      <td>2023</td>\n",
       "      <td>SE</td>\n",
       "      <td>FT</td>\n",
       "      <td>Data Scientist</td>\n",
       "      <td>175000</td>\n",
       "      <td>USD</td>\n",
       "      <td>175000</td>\n",
       "      <td>CA</td>\n",
       "      <td>100</td>\n",
       "      <td>CA</td>\n",
       "      <td>M</td>\n",
       "    </tr>\n",
       "    <tr>\n",
       "      <th>4</th>\n",
       "      <td>2023</td>\n",
       "      <td>SE</td>\n",
       "      <td>FT</td>\n",
       "      <td>Data Scientist</td>\n",
       "      <td>120000</td>\n",
       "      <td>USD</td>\n",
       "      <td>120000</td>\n",
       "      <td>CA</td>\n",
       "      <td>100</td>\n",
       "      <td>CA</td>\n",
       "      <td>M</td>\n",
       "    </tr>\n",
       "  </tbody>\n",
       "</table>\n",
       "</div>"
      ],
      "text/plain": [
       "   work_year experience_level employment_type                 job_title  \\\n",
       "0       2023               SE              FT  Principal Data Scientist   \n",
       "1       2023               MI              CT               ML Engineer   \n",
       "2       2023               MI              CT               ML Engineer   \n",
       "3       2023               SE              FT            Data Scientist   \n",
       "4       2023               SE              FT            Data Scientist   \n",
       "\n",
       "   salary salary_currency  salary_in_usd employee_residence  remote_ratio  \\\n",
       "0   80000             EUR          85847                 ES           100   \n",
       "1   30000             USD          30000                 US           100   \n",
       "2   25500             USD          25500                 US           100   \n",
       "3  175000             USD         175000                 CA           100   \n",
       "4  120000             USD         120000                 CA           100   \n",
       "\n",
       "  company_location company_size  \n",
       "0               ES            L  \n",
       "1               US            S  \n",
       "2               US            S  \n",
       "3               CA            M  \n",
       "4               CA            M  "
      ]
     },
     "execution_count": 3,
     "metadata": {},
     "output_type": "execute_result"
    }
   ],
   "source": [
    "df.head()"
   ]
  },
  {
   "cell_type": "markdown",
   "id": "1e5a96eb",
   "metadata": {},
   "source": [
    "- **Analysis Steps**:\n",
    "\n",
    "I. **Dataset Information**\n",
    "\n",
    "    - Display Overview\n",
    "    - Check Missing Values and Data Types\n",
    "    - Dataset Size\n",
    "    - Basic Statistics\n",
    "    \n",
    "II. **Data Wrangling**\n",
    "\n",
    "    - Country Codes\n",
    "    - Employment Types\n",
    "    - Remote Ratio\n",
    "    - Experience Level\n",
    "\n",
    "III. **Feature Engineering**\n",
    "\n",
    "    - Inflation Rates\n",
    "    - Job Categorization\n",
    "\n",
    "IV. **Univariate Analysis**\n",
    "\n",
    "    - Salary Histogram\n",
    "    - Job Category Boxplot\n",
    "    - Experience Level Box Plot\n",
    "    - Salary by Company Size Bar Chart\n",
    "\n",
    "V. **Multivariate Analysis**\n",
    "\n",
    "    - Salary by Job Type and Company Size Bar Chart\n",
    "    - Salary over Time by Job Category Line Graph\n",
    "    - Salary by Experience Level and Employment Type Bar Chart\n",
    "    - Work Environment by Company Size Pie Charts\n",
    "    - Salary by Experience Level by Company Size Bar Chart\n",
    "\n",
    "VI. **Geographic Analysis**\n",
    "\n",
    "    - Salary by Employee Location Choropleth Map\n",
    "    - Salary by Company Location Bar Chart\n",
    "    - Top 10 Company Location Salaries, Counts Table\n",
    "    - Top 10 Employee Location and Job Categories Pivot Table"
   ]
  },
  {
   "cell_type": "markdown",
   "id": "920dafd4",
   "metadata": {},
   "source": [
    "### Basic statistics analysis"
   ]
  },
  {
   "cell_type": "code",
   "execution_count": 4,
   "id": "e2d92287",
   "metadata": {},
   "outputs": [
    {
     "name": "stdout",
     "output_type": "stream",
     "text": [
      "<class 'pandas.core.frame.DataFrame'>\n",
      "RangeIndex: 3755 entries, 0 to 3754\n",
      "Data columns (total 11 columns):\n",
      " #   Column              Non-Null Count  Dtype \n",
      "---  ------              --------------  ----- \n",
      " 0   work_year           3755 non-null   int64 \n",
      " 1   experience_level    3755 non-null   object\n",
      " 2   employment_type     3755 non-null   object\n",
      " 3   job_title           3755 non-null   object\n",
      " 4   salary              3755 non-null   int64 \n",
      " 5   salary_currency     3755 non-null   object\n",
      " 6   salary_in_usd       3755 non-null   int64 \n",
      " 7   employee_residence  3755 non-null   object\n",
      " 8   remote_ratio        3755 non-null   int64 \n",
      " 9   company_location    3755 non-null   object\n",
      " 10  company_size        3755 non-null   object\n",
      "dtypes: int64(4), object(7)\n",
      "memory usage: 322.8+ KB\n"
     ]
    }
   ],
   "source": [
    "df.info()"
   ]
  },
  {
   "cell_type": "code",
   "execution_count": 5,
   "id": "b3686512",
   "metadata": {},
   "outputs": [
    {
     "data": {
      "text/html": [
       "<div>\n",
       "<style scoped>\n",
       "    .dataframe tbody tr th:only-of-type {\n",
       "        vertical-align: middle;\n",
       "    }\n",
       "\n",
       "    .dataframe tbody tr th {\n",
       "        vertical-align: top;\n",
       "    }\n",
       "\n",
       "    .dataframe thead th {\n",
       "        text-align: right;\n",
       "    }\n",
       "</style>\n",
       "<table border=\"1\" class=\"dataframe\">\n",
       "  <thead>\n",
       "    <tr style=\"text-align: right;\">\n",
       "      <th></th>\n",
       "      <th>work_year</th>\n",
       "      <th>salary</th>\n",
       "      <th>salary_in_usd</th>\n",
       "      <th>remote_ratio</th>\n",
       "    </tr>\n",
       "  </thead>\n",
       "  <tbody>\n",
       "    <tr>\n",
       "      <th>count</th>\n",
       "      <td>3755.000000</td>\n",
       "      <td>3.755000e+03</td>\n",
       "      <td>3755.000000</td>\n",
       "      <td>3755.000000</td>\n",
       "    </tr>\n",
       "    <tr>\n",
       "      <th>mean</th>\n",
       "      <td>2022.373635</td>\n",
       "      <td>1.906956e+05</td>\n",
       "      <td>137570.389880</td>\n",
       "      <td>46.271638</td>\n",
       "    </tr>\n",
       "    <tr>\n",
       "      <th>std</th>\n",
       "      <td>0.691448</td>\n",
       "      <td>6.716765e+05</td>\n",
       "      <td>63055.625278</td>\n",
       "      <td>48.589050</td>\n",
       "    </tr>\n",
       "    <tr>\n",
       "      <th>min</th>\n",
       "      <td>2020.000000</td>\n",
       "      <td>6.000000e+03</td>\n",
       "      <td>5132.000000</td>\n",
       "      <td>0.000000</td>\n",
       "    </tr>\n",
       "    <tr>\n",
       "      <th>25%</th>\n",
       "      <td>2022.000000</td>\n",
       "      <td>1.000000e+05</td>\n",
       "      <td>95000.000000</td>\n",
       "      <td>0.000000</td>\n",
       "    </tr>\n",
       "    <tr>\n",
       "      <th>50%</th>\n",
       "      <td>2022.000000</td>\n",
       "      <td>1.380000e+05</td>\n",
       "      <td>135000.000000</td>\n",
       "      <td>0.000000</td>\n",
       "    </tr>\n",
       "    <tr>\n",
       "      <th>75%</th>\n",
       "      <td>2023.000000</td>\n",
       "      <td>1.800000e+05</td>\n",
       "      <td>175000.000000</td>\n",
       "      <td>100.000000</td>\n",
       "    </tr>\n",
       "    <tr>\n",
       "      <th>max</th>\n",
       "      <td>2023.000000</td>\n",
       "      <td>3.040000e+07</td>\n",
       "      <td>450000.000000</td>\n",
       "      <td>100.000000</td>\n",
       "    </tr>\n",
       "  </tbody>\n",
       "</table>\n",
       "</div>"
      ],
      "text/plain": [
       "         work_year        salary  salary_in_usd  remote_ratio\n",
       "count  3755.000000  3.755000e+03    3755.000000   3755.000000\n",
       "mean   2022.373635  1.906956e+05  137570.389880     46.271638\n",
       "std       0.691448  6.716765e+05   63055.625278     48.589050\n",
       "min    2020.000000  6.000000e+03    5132.000000      0.000000\n",
       "25%    2022.000000  1.000000e+05   95000.000000      0.000000\n",
       "50%    2022.000000  1.380000e+05  135000.000000      0.000000\n",
       "75%    2023.000000  1.800000e+05  175000.000000    100.000000\n",
       "max    2023.000000  3.040000e+07  450000.000000    100.000000"
      ]
     },
     "execution_count": 5,
     "metadata": {},
     "output_type": "execute_result"
    }
   ],
   "source": [
    "df.describe()"
   ]
  },
  {
   "cell_type": "code",
   "execution_count": 6,
   "id": "757942e6",
   "metadata": {},
   "outputs": [
    {
     "data": {
      "text/plain": [
       "work_year             0\n",
       "experience_level      0\n",
       "employment_type       0\n",
       "job_title             0\n",
       "salary                0\n",
       "salary_currency       0\n",
       "salary_in_usd         0\n",
       "employee_residence    0\n",
       "remote_ratio          0\n",
       "company_location      0\n",
       "company_size          0\n",
       "dtype: int64"
      ]
     },
     "execution_count": 6,
     "metadata": {},
     "output_type": "execute_result"
    }
   ],
   "source": [
    "df.isnull().sum()"
   ]
  },
  {
   "cell_type": "code",
   "execution_count": 7,
   "id": "50587ecf",
   "metadata": {},
   "outputs": [
    {
     "data": {
      "text/html": [
       "<div>\n",
       "<style scoped>\n",
       "    .dataframe tbody tr th:only-of-type {\n",
       "        vertical-align: middle;\n",
       "    }\n",
       "\n",
       "    .dataframe tbody tr th {\n",
       "        vertical-align: top;\n",
       "    }\n",
       "\n",
       "    .dataframe thead th {\n",
       "        text-align: right;\n",
       "    }\n",
       "</style>\n",
       "<table border=\"1\" class=\"dataframe\">\n",
       "  <thead>\n",
       "    <tr style=\"text-align: right;\">\n",
       "      <th></th>\n",
       "      <th>work_year</th>\n",
       "      <th>experience_level</th>\n",
       "      <th>employment_type</th>\n",
       "      <th>job_title</th>\n",
       "      <th>salary</th>\n",
       "      <th>salary_currency</th>\n",
       "      <th>salary_in_usd</th>\n",
       "      <th>employee_residence</th>\n",
       "      <th>remote_ratio</th>\n",
       "      <th>company_location</th>\n",
       "      <th>company_size</th>\n",
       "    </tr>\n",
       "  </thead>\n",
       "  <tbody>\n",
       "    <tr>\n",
       "      <th>5</th>\n",
       "      <td>2023</td>\n",
       "      <td>SE</td>\n",
       "      <td>FT</td>\n",
       "      <td>Applied Scientist</td>\n",
       "      <td>222200</td>\n",
       "      <td>USD</td>\n",
       "      <td>222200</td>\n",
       "      <td>US</td>\n",
       "      <td>0</td>\n",
       "      <td>US</td>\n",
       "      <td>L</td>\n",
       "    </tr>\n",
       "    <tr>\n",
       "      <th>6</th>\n",
       "      <td>2023</td>\n",
       "      <td>SE</td>\n",
       "      <td>FT</td>\n",
       "      <td>Applied Scientist</td>\n",
       "      <td>136000</td>\n",
       "      <td>USD</td>\n",
       "      <td>136000</td>\n",
       "      <td>US</td>\n",
       "      <td>0</td>\n",
       "      <td>US</td>\n",
       "      <td>L</td>\n",
       "    </tr>\n",
       "    <tr>\n",
       "      <th>9</th>\n",
       "      <td>2023</td>\n",
       "      <td>SE</td>\n",
       "      <td>FT</td>\n",
       "      <td>Data Scientist</td>\n",
       "      <td>147100</td>\n",
       "      <td>USD</td>\n",
       "      <td>147100</td>\n",
       "      <td>US</td>\n",
       "      <td>0</td>\n",
       "      <td>US</td>\n",
       "      <td>M</td>\n",
       "    </tr>\n",
       "    <tr>\n",
       "      <th>10</th>\n",
       "      <td>2023</td>\n",
       "      <td>SE</td>\n",
       "      <td>FT</td>\n",
       "      <td>Data Scientist</td>\n",
       "      <td>90700</td>\n",
       "      <td>USD</td>\n",
       "      <td>90700</td>\n",
       "      <td>US</td>\n",
       "      <td>0</td>\n",
       "      <td>US</td>\n",
       "      <td>M</td>\n",
       "    </tr>\n",
       "    <tr>\n",
       "      <th>11</th>\n",
       "      <td>2023</td>\n",
       "      <td>SE</td>\n",
       "      <td>FT</td>\n",
       "      <td>Data Analyst</td>\n",
       "      <td>130000</td>\n",
       "      <td>USD</td>\n",
       "      <td>130000</td>\n",
       "      <td>US</td>\n",
       "      <td>100</td>\n",
       "      <td>US</td>\n",
       "      <td>M</td>\n",
       "    </tr>\n",
       "    <tr>\n",
       "      <th>...</th>\n",
       "      <td>...</td>\n",
       "      <td>...</td>\n",
       "      <td>...</td>\n",
       "      <td>...</td>\n",
       "      <td>...</td>\n",
       "      <td>...</td>\n",
       "      <td>...</td>\n",
       "      <td>...</td>\n",
       "      <td>...</td>\n",
       "      <td>...</td>\n",
       "      <td>...</td>\n",
       "    </tr>\n",
       "    <tr>\n",
       "      <th>3441</th>\n",
       "      <td>2022</td>\n",
       "      <td>SE</td>\n",
       "      <td>FT</td>\n",
       "      <td>Data Engineer</td>\n",
       "      <td>115000</td>\n",
       "      <td>USD</td>\n",
       "      <td>115000</td>\n",
       "      <td>US</td>\n",
       "      <td>100</td>\n",
       "      <td>US</td>\n",
       "      <td>M</td>\n",
       "    </tr>\n",
       "    <tr>\n",
       "      <th>3502</th>\n",
       "      <td>2021</td>\n",
       "      <td>MI</td>\n",
       "      <td>FT</td>\n",
       "      <td>Data Engineer</td>\n",
       "      <td>200000</td>\n",
       "      <td>USD</td>\n",
       "      <td>200000</td>\n",
       "      <td>US</td>\n",
       "      <td>100</td>\n",
       "      <td>US</td>\n",
       "      <td>L</td>\n",
       "    </tr>\n",
       "    <tr>\n",
       "      <th>3586</th>\n",
       "      <td>2021</td>\n",
       "      <td>MI</td>\n",
       "      <td>FT</td>\n",
       "      <td>Data Engineer</td>\n",
       "      <td>200000</td>\n",
       "      <td>USD</td>\n",
       "      <td>200000</td>\n",
       "      <td>US</td>\n",
       "      <td>100</td>\n",
       "      <td>US</td>\n",
       "      <td>L</td>\n",
       "    </tr>\n",
       "    <tr>\n",
       "      <th>3665</th>\n",
       "      <td>2021</td>\n",
       "      <td>MI</td>\n",
       "      <td>FT</td>\n",
       "      <td>Data Scientist</td>\n",
       "      <td>76760</td>\n",
       "      <td>EUR</td>\n",
       "      <td>90734</td>\n",
       "      <td>DE</td>\n",
       "      <td>50</td>\n",
       "      <td>DE</td>\n",
       "      <td>L</td>\n",
       "    </tr>\n",
       "    <tr>\n",
       "      <th>3709</th>\n",
       "      <td>2021</td>\n",
       "      <td>MI</td>\n",
       "      <td>FT</td>\n",
       "      <td>Data Scientist</td>\n",
       "      <td>76760</td>\n",
       "      <td>EUR</td>\n",
       "      <td>90734</td>\n",
       "      <td>DE</td>\n",
       "      <td>50</td>\n",
       "      <td>DE</td>\n",
       "      <td>L</td>\n",
       "    </tr>\n",
       "  </tbody>\n",
       "</table>\n",
       "<p>1715 rows × 11 columns</p>\n",
       "</div>"
      ],
      "text/plain": [
       "      work_year experience_level employment_type          job_title  salary  \\\n",
       "5          2023               SE              FT  Applied Scientist  222200   \n",
       "6          2023               SE              FT  Applied Scientist  136000   \n",
       "9          2023               SE              FT     Data Scientist  147100   \n",
       "10         2023               SE              FT     Data Scientist   90700   \n",
       "11         2023               SE              FT       Data Analyst  130000   \n",
       "...         ...              ...             ...                ...     ...   \n",
       "3441       2022               SE              FT      Data Engineer  115000   \n",
       "3502       2021               MI              FT      Data Engineer  200000   \n",
       "3586       2021               MI              FT      Data Engineer  200000   \n",
       "3665       2021               MI              FT     Data Scientist   76760   \n",
       "3709       2021               MI              FT     Data Scientist   76760   \n",
       "\n",
       "     salary_currency  salary_in_usd employee_residence  remote_ratio  \\\n",
       "5                USD         222200                 US             0   \n",
       "6                USD         136000                 US             0   \n",
       "9                USD         147100                 US             0   \n",
       "10               USD          90700                 US             0   \n",
       "11               USD         130000                 US           100   \n",
       "...              ...            ...                ...           ...   \n",
       "3441             USD         115000                 US           100   \n",
       "3502             USD         200000                 US           100   \n",
       "3586             USD         200000                 US           100   \n",
       "3665             EUR          90734                 DE            50   \n",
       "3709             EUR          90734                 DE            50   \n",
       "\n",
       "     company_location company_size  \n",
       "5                  US            L  \n",
       "6                  US            L  \n",
       "9                  US            M  \n",
       "10                 US            M  \n",
       "11                 US            M  \n",
       "...               ...          ...  \n",
       "3441               US            M  \n",
       "3502               US            L  \n",
       "3586               US            L  \n",
       "3665               DE            L  \n",
       "3709               DE            L  \n",
       "\n",
       "[1715 rows x 11 columns]"
      ]
     },
     "execution_count": 7,
     "metadata": {},
     "output_type": "execute_result"
    }
   ],
   "source": [
    "df[df.duplicated(keep=False)]"
   ]
  },
  {
   "cell_type": "code",
   "execution_count": 8,
   "id": "9366504d",
   "metadata": {},
   "outputs": [
    {
     "data": {
      "text/plain": [
       "1171"
      ]
     },
     "execution_count": 8,
     "metadata": {},
     "output_type": "execute_result"
    }
   ],
   "source": [
    "df.duplicated().sum() ## large volume of duplicate data"
   ]
  },
  {
   "cell_type": "code",
   "execution_count": 9,
   "id": "6c1ec69d",
   "metadata": {},
   "outputs": [],
   "source": [
    "df.drop_duplicates(keep='first', inplace=True)"
   ]
  },
  {
   "cell_type": "code",
   "execution_count": 10,
   "id": "050ccd7a",
   "metadata": {},
   "outputs": [
    {
     "name": "stdout",
     "output_type": "stream",
     "text": [
      "<class 'pandas.core.frame.DataFrame'>\n",
      "Index: 2584 entries, 0 to 3754\n",
      "Data columns (total 11 columns):\n",
      " #   Column              Non-Null Count  Dtype \n",
      "---  ------              --------------  ----- \n",
      " 0   work_year           2584 non-null   int64 \n",
      " 1   experience_level    2584 non-null   object\n",
      " 2   employment_type     2584 non-null   object\n",
      " 3   job_title           2584 non-null   object\n",
      " 4   salary              2584 non-null   int64 \n",
      " 5   salary_currency     2584 non-null   object\n",
      " 6   salary_in_usd       2584 non-null   int64 \n",
      " 7   employee_residence  2584 non-null   object\n",
      " 8   remote_ratio        2584 non-null   int64 \n",
      " 9   company_location    2584 non-null   object\n",
      " 10  company_size        2584 non-null   object\n",
      "dtypes: int64(4), object(7)\n",
      "memory usage: 242.2+ KB\n"
     ]
    }
   ],
   "source": [
    "df.info() ## "
   ]
  },
  {
   "cell_type": "code",
   "execution_count": 11,
   "id": "0c2f9e5e",
   "metadata": {},
   "outputs": [
    {
     "data": {
      "text/plain": [
       "1171"
      ]
     },
     "execution_count": 11,
     "metadata": {},
     "output_type": "execute_result"
    }
   ],
   "source": [
    "3755 - 2584 ## rows deleted"
   ]
  },
  {
   "cell_type": "markdown",
   "id": "2816c627",
   "metadata": {},
   "source": [
    "## Feature Engineering"
   ]
  },
  {
   "cell_type": "code",
   "execution_count": 12,
   "id": "f00e0a26",
   "metadata": {},
   "outputs": [],
   "source": [
    "# Converting column values."
   ]
  },
  {
   "cell_type": "code",
   "execution_count": 13,
   "id": "65c9d95e",
   "metadata": {},
   "outputs": [],
   "source": [
    "df['experience_level'] = df.experience_level.replace({'SE': 'Senior', 'MI': 'Mid_Level', 'EN': 'Entry_Level', 'EX': 'Executive'})\n",
    "\n",
    "df['employment_type'] = df.employment_type.replace({'FT':'Full_time', 'PT':'Part_time', 'CT':'Contract', 'FL':'Freelance'})\n",
    "\n",
    "df['company_location'] = df.company_location.apply(lambda x: pycountry.countries.get(alpha_2=x).name if pycountry.countries.get(alpha_2=x) else x)\n",
    "\n",
    "df['employee_residence'] = df.employee_residence.apply(lambda x: pycountry.countries.get(alpha_2=x).name if pycountry.countries.get(alpha_2=x) else x)\n",
    "\n",
    "df['work_environment'] = df.remote_ratio.replace({100:'Remote',50:'Hybrid',0:'On Site'})"
   ]
  },
  {
   "cell_type": "code",
   "execution_count": 14,
   "id": "924b5d0c",
   "metadata": {},
   "outputs": [],
   "source": [
    "df['company_size'] = df.company_size.replace({'L': 'Large', 'M':'Medium', 'S':'Small'})"
   ]
  },
  {
   "cell_type": "code",
   "execution_count": 15,
   "id": "10ff87c4",
   "metadata": {},
   "outputs": [],
   "source": [
    "def convert_job_categories(job_category):\n",
    "    keywords = ['Analyst', 'Scientist', 'Engineer', 'Architect']\n",
    "    \n",
    "    for keyword in keywords:\n",
    "        if keyword in job_category:\n",
    "            return keyword\n",
    "    return 'Other'"
   ]
  },
  {
   "cell_type": "code",
   "execution_count": 16,
   "id": "b2144d78",
   "metadata": {},
   "outputs": [],
   "source": [
    "df['job_title'] = df.job_title.apply(convert_job_categories)"
   ]
  },
  {
   "cell_type": "markdown",
   "id": "1977ac93",
   "metadata": {},
   "source": [
    "### Columns which needed encoding is completed."
   ]
  },
  {
   "cell_type": "code",
   "execution_count": 17,
   "id": "24d868bc",
   "metadata": {},
   "outputs": [
    {
     "data": {
      "text/html": [
       "<div>\n",
       "<style scoped>\n",
       "    .dataframe tbody tr th:only-of-type {\n",
       "        vertical-align: middle;\n",
       "    }\n",
       "\n",
       "    .dataframe tbody tr th {\n",
       "        vertical-align: top;\n",
       "    }\n",
       "\n",
       "    .dataframe thead th {\n",
       "        text-align: right;\n",
       "    }\n",
       "</style>\n",
       "<table border=\"1\" class=\"dataframe\">\n",
       "  <thead>\n",
       "    <tr style=\"text-align: right;\">\n",
       "      <th></th>\n",
       "      <th>work_year</th>\n",
       "      <th>experience_level</th>\n",
       "      <th>employment_type</th>\n",
       "      <th>job_title</th>\n",
       "      <th>salary</th>\n",
       "      <th>salary_currency</th>\n",
       "      <th>salary_in_usd</th>\n",
       "      <th>employee_residence</th>\n",
       "      <th>remote_ratio</th>\n",
       "      <th>company_location</th>\n",
       "      <th>company_size</th>\n",
       "      <th>work_environment</th>\n",
       "    </tr>\n",
       "  </thead>\n",
       "  <tbody>\n",
       "    <tr>\n",
       "      <th>0</th>\n",
       "      <td>2023</td>\n",
       "      <td>Senior</td>\n",
       "      <td>Full_time</td>\n",
       "      <td>Scientist</td>\n",
       "      <td>80000</td>\n",
       "      <td>EUR</td>\n",
       "      <td>85847</td>\n",
       "      <td>Spain</td>\n",
       "      <td>100</td>\n",
       "      <td>Spain</td>\n",
       "      <td>Large</td>\n",
       "      <td>Remote</td>\n",
       "    </tr>\n",
       "    <tr>\n",
       "      <th>1</th>\n",
       "      <td>2023</td>\n",
       "      <td>Mid_Level</td>\n",
       "      <td>Contract</td>\n",
       "      <td>Engineer</td>\n",
       "      <td>30000</td>\n",
       "      <td>USD</td>\n",
       "      <td>30000</td>\n",
       "      <td>United States</td>\n",
       "      <td>100</td>\n",
       "      <td>United States</td>\n",
       "      <td>Small</td>\n",
       "      <td>Remote</td>\n",
       "    </tr>\n",
       "    <tr>\n",
       "      <th>2</th>\n",
       "      <td>2023</td>\n",
       "      <td>Mid_Level</td>\n",
       "      <td>Contract</td>\n",
       "      <td>Engineer</td>\n",
       "      <td>25500</td>\n",
       "      <td>USD</td>\n",
       "      <td>25500</td>\n",
       "      <td>United States</td>\n",
       "      <td>100</td>\n",
       "      <td>United States</td>\n",
       "      <td>Small</td>\n",
       "      <td>Remote</td>\n",
       "    </tr>\n",
       "    <tr>\n",
       "      <th>3</th>\n",
       "      <td>2023</td>\n",
       "      <td>Senior</td>\n",
       "      <td>Full_time</td>\n",
       "      <td>Scientist</td>\n",
       "      <td>175000</td>\n",
       "      <td>USD</td>\n",
       "      <td>175000</td>\n",
       "      <td>Canada</td>\n",
       "      <td>100</td>\n",
       "      <td>Canada</td>\n",
       "      <td>Medium</td>\n",
       "      <td>Remote</td>\n",
       "    </tr>\n",
       "    <tr>\n",
       "      <th>4</th>\n",
       "      <td>2023</td>\n",
       "      <td>Senior</td>\n",
       "      <td>Full_time</td>\n",
       "      <td>Scientist</td>\n",
       "      <td>120000</td>\n",
       "      <td>USD</td>\n",
       "      <td>120000</td>\n",
       "      <td>Canada</td>\n",
       "      <td>100</td>\n",
       "      <td>Canada</td>\n",
       "      <td>Medium</td>\n",
       "      <td>Remote</td>\n",
       "    </tr>\n",
       "  </tbody>\n",
       "</table>\n",
       "</div>"
      ],
      "text/plain": [
       "   work_year experience_level employment_type  job_title  salary  \\\n",
       "0       2023           Senior       Full_time  Scientist   80000   \n",
       "1       2023        Mid_Level        Contract   Engineer   30000   \n",
       "2       2023        Mid_Level        Contract   Engineer   25500   \n",
       "3       2023           Senior       Full_time  Scientist  175000   \n",
       "4       2023           Senior       Full_time  Scientist  120000   \n",
       "\n",
       "  salary_currency  salary_in_usd employee_residence  remote_ratio  \\\n",
       "0             EUR          85847              Spain           100   \n",
       "1             USD          30000      United States           100   \n",
       "2             USD          25500      United States           100   \n",
       "3             USD         175000             Canada           100   \n",
       "4             USD         120000             Canada           100   \n",
       "\n",
       "  company_location company_size work_environment  \n",
       "0            Spain        Large           Remote  \n",
       "1    United States        Small           Remote  \n",
       "2    United States        Small           Remote  \n",
       "3           Canada       Medium           Remote  \n",
       "4           Canada       Medium           Remote  "
      ]
     },
     "execution_count": 17,
     "metadata": {},
     "output_type": "execute_result"
    }
   ],
   "source": [
    "df.head(5)"
   ]
  },
  {
   "cell_type": "code",
   "execution_count": 18,
   "id": "3277f1fc",
   "metadata": {},
   "outputs": [],
   "source": [
    "## Dropping columns \n",
    "\n",
    "df.drop(['remote_ratio'], inplace=True, axis = 1)"
   ]
  },
  {
   "cell_type": "code",
   "execution_count": 19,
   "id": "3b522a57",
   "metadata": {},
   "outputs": [
    {
     "data": {
      "text/html": [
       "<div>\n",
       "<style scoped>\n",
       "    .dataframe tbody tr th:only-of-type {\n",
       "        vertical-align: middle;\n",
       "    }\n",
       "\n",
       "    .dataframe tbody tr th {\n",
       "        vertical-align: top;\n",
       "    }\n",
       "\n",
       "    .dataframe thead th {\n",
       "        text-align: right;\n",
       "    }\n",
       "</style>\n",
       "<table border=\"1\" class=\"dataframe\">\n",
       "  <thead>\n",
       "    <tr style=\"text-align: right;\">\n",
       "      <th></th>\n",
       "      <th>work_year</th>\n",
       "      <th>experience_level</th>\n",
       "      <th>employment_type</th>\n",
       "      <th>job_title</th>\n",
       "      <th>salary</th>\n",
       "      <th>salary_currency</th>\n",
       "      <th>salary_in_usd</th>\n",
       "      <th>employee_residence</th>\n",
       "      <th>company_location</th>\n",
       "      <th>company_size</th>\n",
       "      <th>work_environment</th>\n",
       "    </tr>\n",
       "  </thead>\n",
       "  <tbody>\n",
       "    <tr>\n",
       "      <th>0</th>\n",
       "      <td>2023</td>\n",
       "      <td>Senior</td>\n",
       "      <td>Full_time</td>\n",
       "      <td>Scientist</td>\n",
       "      <td>80000</td>\n",
       "      <td>EUR</td>\n",
       "      <td>85847</td>\n",
       "      <td>Spain</td>\n",
       "      <td>Spain</td>\n",
       "      <td>Large</td>\n",
       "      <td>Remote</td>\n",
       "    </tr>\n",
       "    <tr>\n",
       "      <th>1</th>\n",
       "      <td>2023</td>\n",
       "      <td>Mid_Level</td>\n",
       "      <td>Contract</td>\n",
       "      <td>Engineer</td>\n",
       "      <td>30000</td>\n",
       "      <td>USD</td>\n",
       "      <td>30000</td>\n",
       "      <td>United States</td>\n",
       "      <td>United States</td>\n",
       "      <td>Small</td>\n",
       "      <td>Remote</td>\n",
       "    </tr>\n",
       "  </tbody>\n",
       "</table>\n",
       "</div>"
      ],
      "text/plain": [
       "   work_year experience_level employment_type  job_title  salary  \\\n",
       "0       2023           Senior       Full_time  Scientist   80000   \n",
       "1       2023        Mid_Level        Contract   Engineer   30000   \n",
       "\n",
       "  salary_currency  salary_in_usd employee_residence company_location  \\\n",
       "0             EUR          85847              Spain            Spain   \n",
       "1             USD          30000      United States    United States   \n",
       "\n",
       "  company_size work_environment  \n",
       "0        Large           Remote  \n",
       "1        Small           Remote  "
      ]
     },
     "execution_count": 19,
     "metadata": {},
     "output_type": "execute_result"
    }
   ],
   "source": [
    "df.head(2)"
   ]
  },
  {
   "cell_type": "markdown",
   "id": "4f95e4d8",
   "metadata": {},
   "source": [
    "### Seperating columns"
   ]
  },
  {
   "cell_type": "code",
   "execution_count": 20,
   "id": "d7c4b4a3",
   "metadata": {},
   "outputs": [],
   "source": [
    "# seperating the numerical and categorical columns\n",
    "\n",
    "num_cols = df.select_dtypes(include='number')\n",
    "cat_cols = df.select_dtypes(exclude='number')"
   ]
  },
  {
   "cell_type": "markdown",
   "id": "64f09158",
   "metadata": {},
   "source": [
    "## Univeriate Analysis."
   ]
  },
  {
   "cell_type": "markdown",
   "id": "f4d6c737",
   "metadata": {},
   "source": [
    "### Exploring numerical columns"
   ]
  },
  {
   "cell_type": "code",
   "execution_count": 21,
   "id": "f5362944",
   "metadata": {},
   "outputs": [],
   "source": [
    "# plt.rcParams['figure.figsize'] = [5,4]\n",
    "sns.set_palette('rocket')"
   ]
  },
  {
   "cell_type": "code",
   "execution_count": 22,
   "id": "7929c22f",
   "metadata": {},
   "outputs": [
    {
     "data": {
      "text/html": [
       "<div>\n",
       "<style scoped>\n",
       "    .dataframe tbody tr th:only-of-type {\n",
       "        vertical-align: middle;\n",
       "    }\n",
       "\n",
       "    .dataframe tbody tr th {\n",
       "        vertical-align: top;\n",
       "    }\n",
       "\n",
       "    .dataframe thead th {\n",
       "        text-align: right;\n",
       "    }\n",
       "</style>\n",
       "<table border=\"1\" class=\"dataframe\">\n",
       "  <thead>\n",
       "    <tr style=\"text-align: right;\">\n",
       "      <th></th>\n",
       "      <th>work_year</th>\n",
       "      <th>salary</th>\n",
       "      <th>salary_in_usd</th>\n",
       "    </tr>\n",
       "  </thead>\n",
       "  <tbody>\n",
       "    <tr>\n",
       "      <th>0</th>\n",
       "      <td>2023</td>\n",
       "      <td>80000</td>\n",
       "      <td>85847</td>\n",
       "    </tr>\n",
       "    <tr>\n",
       "      <th>1</th>\n",
       "      <td>2023</td>\n",
       "      <td>30000</td>\n",
       "      <td>30000</td>\n",
       "    </tr>\n",
       "  </tbody>\n",
       "</table>\n",
       "</div>"
      ],
      "text/plain": [
       "   work_year  salary  salary_in_usd\n",
       "0       2023   80000          85847\n",
       "1       2023   30000          30000"
      ]
     },
     "execution_count": 22,
     "metadata": {},
     "output_type": "execute_result"
    }
   ],
   "source": [
    "num_cols.head(2)"
   ]
  },
  {
   "cell_type": "code",
   "execution_count": 23,
   "id": "074eb937",
   "metadata": {},
   "outputs": [
    {
     "data": {
      "text/plain": [
       "work_year\n",
       "2023    1156\n",
       "2022    1125\n",
       "2021     228\n",
       "2020      75\n",
       "Name: count, dtype: int64"
      ]
     },
     "execution_count": 23,
     "metadata": {},
     "output_type": "execute_result"
    }
   ],
   "source": [
    "df.work_year.value_counts()"
   ]
  },
  {
   "cell_type": "code",
   "execution_count": 24,
   "id": "24996799",
   "metadata": {},
   "outputs": [
    {
     "data": {
      "text/plain": [
       "<Axes: xlabel='work_year', ylabel='count'>"
      ]
     },
     "execution_count": 24,
     "metadata": {},
     "output_type": "execute_result"
    },
    {
     "data": {
      "image/png": "[encoded data removed]",
      "text/plain": [
       "<Figure size 640x480 with 1 Axes>"
      ]
     },
     "metadata": {},
     "output_type": "display_data"
    }
   ],
   "source": [
    "# plt.figure(figsize=(4,3))\n",
    "sns.color_palette('flare')\n",
    "sns.countplot(x = df.work_year, width = 0.5)"
   ]
  },
  {
   "cell_type": "code",
   "execution_count": 25,
   "id": "93e3255f",
   "metadata": {},
   "outputs": [
    {
     "data": {
      "text/plain": [
       "<Axes: xlabel='salary_in_usd', ylabel='Count'>"
      ]
     },
     "execution_count": 25,
     "metadata": {},
     "output_type": "execute_result"
    },
    {
     "data": {
      "image/png": "[encoded data removed]",
      "text/plain": [
       "<Figure size 640x480 with 1 Axes>"
      ]
     },
     "metadata": {},
     "output_type": "display_data"
    }
   ],
   "source": [
    "sns.histplot(df.salary_in_usd) ## right skewed "
   ]
  },
  {
   "cell_type": "markdown",
   "id": "81221dda",
   "metadata": {},
   "source": [
    "### Exploring Categorical Columns."
   ]
  },
  {
   "cell_type": "code",
   "execution_count": 26,
   "id": "92ae103d",
   "metadata": {},
   "outputs": [
    {
     "data": {
      "text/html": [
       "<div>\n",
       "<style scoped>\n",
       "    .dataframe tbody tr th:only-of-type {\n",
       "        vertical-align: middle;\n",
       "    }\n",
       "\n",
       "    .dataframe tbody tr th {\n",
       "        vertical-align: top;\n",
       "    }\n",
       "\n",
       "    .dataframe thead th {\n",
       "        text-align: right;\n",
       "    }\n",
       "</style>\n",
       "<table border=\"1\" class=\"dataframe\">\n",
       "  <thead>\n",
       "    <tr style=\"text-align: right;\">\n",
       "      <th></th>\n",
       "      <th>experience_level</th>\n",
       "      <th>employment_type</th>\n",
       "      <th>job_title</th>\n",
       "      <th>salary_currency</th>\n",
       "      <th>employee_residence</th>\n",
       "      <th>company_location</th>\n",
       "      <th>company_size</th>\n",
       "      <th>work_environment</th>\n",
       "    </tr>\n",
       "  </thead>\n",
       "  <tbody>\n",
       "    <tr>\n",
       "      <th>0</th>\n",
       "      <td>Senior</td>\n",
       "      <td>Full_time</td>\n",
       "      <td>Scientist</td>\n",
       "      <td>EUR</td>\n",
       "      <td>Spain</td>\n",
       "      <td>Spain</td>\n",
       "      <td>Large</td>\n",
       "      <td>Remote</td>\n",
       "    </tr>\n",
       "    <tr>\n",
       "      <th>1</th>\n",
       "      <td>Mid_Level</td>\n",
       "      <td>Contract</td>\n",
       "      <td>Engineer</td>\n",
       "      <td>USD</td>\n",
       "      <td>United States</td>\n",
       "      <td>United States</td>\n",
       "      <td>Small</td>\n",
       "      <td>Remote</td>\n",
       "    </tr>\n",
       "    <tr>\n",
       "      <th>2</th>\n",
       "      <td>Mid_Level</td>\n",
       "      <td>Contract</td>\n",
       "      <td>Engineer</td>\n",
       "      <td>USD</td>\n",
       "      <td>United States</td>\n",
       "      <td>United States</td>\n",
       "      <td>Small</td>\n",
       "      <td>Remote</td>\n",
       "    </tr>\n",
       "    <tr>\n",
       "      <th>3</th>\n",
       "      <td>Senior</td>\n",
       "      <td>Full_time</td>\n",
       "      <td>Scientist</td>\n",
       "      <td>USD</td>\n",
       "      <td>Canada</td>\n",
       "      <td>Canada</td>\n",
       "      <td>Medium</td>\n",
       "      <td>Remote</td>\n",
       "    </tr>\n",
       "    <tr>\n",
       "      <th>4</th>\n",
       "      <td>Senior</td>\n",
       "      <td>Full_time</td>\n",
       "      <td>Scientist</td>\n",
       "      <td>USD</td>\n",
       "      <td>Canada</td>\n",
       "      <td>Canada</td>\n",
       "      <td>Medium</td>\n",
       "      <td>Remote</td>\n",
       "    </tr>\n",
       "    <tr>\n",
       "      <th>...</th>\n",
       "      <td>...</td>\n",
       "      <td>...</td>\n",
       "      <td>...</td>\n",
       "      <td>...</td>\n",
       "      <td>...</td>\n",
       "      <td>...</td>\n",
       "      <td>...</td>\n",
       "      <td>...</td>\n",
       "    </tr>\n",
       "    <tr>\n",
       "      <th>3750</th>\n",
       "      <td>Senior</td>\n",
       "      <td>Full_time</td>\n",
       "      <td>Scientist</td>\n",
       "      <td>USD</td>\n",
       "      <td>United States</td>\n",
       "      <td>United States</td>\n",
       "      <td>Large</td>\n",
       "      <td>Remote</td>\n",
       "    </tr>\n",
       "    <tr>\n",
       "      <th>3751</th>\n",
       "      <td>Mid_Level</td>\n",
       "      <td>Full_time</td>\n",
       "      <td>Scientist</td>\n",
       "      <td>USD</td>\n",
       "      <td>United States</td>\n",
       "      <td>United States</td>\n",
       "      <td>Large</td>\n",
       "      <td>Remote</td>\n",
       "    </tr>\n",
       "    <tr>\n",
       "      <th>3752</th>\n",
       "      <td>Entry_Level</td>\n",
       "      <td>Full_time</td>\n",
       "      <td>Scientist</td>\n",
       "      <td>USD</td>\n",
       "      <td>United States</td>\n",
       "      <td>United States</td>\n",
       "      <td>Small</td>\n",
       "      <td>Remote</td>\n",
       "    </tr>\n",
       "    <tr>\n",
       "      <th>3753</th>\n",
       "      <td>Entry_Level</td>\n",
       "      <td>Contract</td>\n",
       "      <td>Analyst</td>\n",
       "      <td>USD</td>\n",
       "      <td>United States</td>\n",
       "      <td>United States</td>\n",
       "      <td>Large</td>\n",
       "      <td>Remote</td>\n",
       "    </tr>\n",
       "    <tr>\n",
       "      <th>3754</th>\n",
       "      <td>Senior</td>\n",
       "      <td>Full_time</td>\n",
       "      <td>Other</td>\n",
       "      <td>INR</td>\n",
       "      <td>India</td>\n",
       "      <td>India</td>\n",
       "      <td>Large</td>\n",
       "      <td>Hybrid</td>\n",
       "    </tr>\n",
       "  </tbody>\n",
       "</table>\n",
       "<p>2584 rows × 8 columns</p>\n",
       "</div>"
      ],
      "text/plain": [
       "     experience_level employment_type  job_title salary_currency  \\\n",
       "0              Senior       Full_time  Scientist             EUR   \n",
       "1           Mid_Level        Contract   Engineer             USD   \n",
       "2           Mid_Level        Contract   Engineer             USD   \n",
       "3              Senior       Full_time  Scientist             USD   \n",
       "4              Senior       Full_time  Scientist             USD   \n",
       "...               ...             ...        ...             ...   \n",
       "3750           Senior       Full_time  Scientist             USD   \n",
       "3751        Mid_Level       Full_time  Scientist             USD   \n",
       "3752      Entry_Level       Full_time  Scientist             USD   \n",
       "3753      Entry_Level        Contract    Analyst             USD   \n",
       "3754           Senior       Full_time      Other             INR   \n",
       "\n",
       "     employee_residence company_location company_size work_environment  \n",
       "0                 Spain            Spain        Large           Remote  \n",
       "1         United States    United States        Small           Remote  \n",
       "2         United States    United States        Small           Remote  \n",
       "3                Canada           Canada       Medium           Remote  \n",
       "4                Canada           Canada       Medium           Remote  \n",
       "...                 ...              ...          ...              ...  \n",
       "3750      United States    United States        Large           Remote  \n",
       "3751      United States    United States        Large           Remote  \n",
       "3752      United States    United States        Small           Remote  \n",
       "3753      United States    United States        Large           Remote  \n",
       "3754              India            India        Large           Hybrid  \n",
       "\n",
       "[2584 rows x 8 columns]"
      ]
     },
     "execution_count": 26,
     "metadata": {},
     "output_type": "execute_result"
    }
   ],
   "source": [
    "cat_cols"
   ]
  },
  {
   "cell_type": "code",
   "execution_count": 27,
   "id": "899322be",
   "metadata": {},
   "outputs": [
    {
     "data": {
      "text/plain": [
       "employment_type\n",
       "Full_time    2547\n",
       "Part_time      17\n",
       "Contract       10\n",
       "Freelance      10\n",
       "Name: count, dtype: int64"
      ]
     },
     "execution_count": 27,
     "metadata": {},
     "output_type": "execute_result"
    }
   ],
   "source": [
    "df['employment_type'].value_counts()"
   ]
  },
  {
   "cell_type": "code",
   "execution_count": 28,
   "id": "c82e0bdb",
   "metadata": {},
   "outputs": [
    {
     "data": {
      "image/png": "[encoded data removed]",
      "text/plain": [
       "<Figure size 1200x300 with 3 Axes>"
      ]
     },
     "metadata": {},
     "output_type": "display_data"
    }
   ],
   "source": [
    "fig, axes = plt.subplots(1, 3, figsize=(12, 3), gridspec_kw={'width_ratios': [1, 1, 1]})\n",
    "\n",
    "sns.countplot(x=df.experience_level, width=0.3, ax=axes[0])\n",
    "axes[0].set_title('Exp_level')\n",
    "\n",
    "sns.countplot(x=df.employment_type, width=0.3, ax=axes[1])\n",
    "axes[1].set_title('employment_type')\n",
    "\n",
    "sns.countplot(x=df.company_size, width=0.3, ax=axes[2])\n",
    "axes[2].set_title('company_size')\n",
    "\n",
    "plt.tight_layout()\n",
    "plt.show()"
   ]
  },
  {
   "cell_type": "markdown",
   "id": "5f2c2566",
   "metadata": {},
   "source": [
    "## Multivariate Analysis."
   ]
  },
  {
   "cell_type": "code",
   "execution_count": 29,
   "id": "b109f3d3",
   "metadata": {},
   "outputs": [
    {
     "data": {
      "text/plain": [
       "<Axes: xlabel='job_title', ylabel='salary'>"
      ]
     },
     "execution_count": 29,
     "metadata": {},
     "output_type": "execute_result"
    },
    {
     "data": {
      "image/png": "[encoded data removed]",
      "text/plain": [
       "<Figure size 640x480 with 1 Axes>"
      ]
     },
     "metadata": {},
     "output_type": "display_data"
    }
   ],
   "source": [
    "sns.set_theme(style=\"whitegrid\")\n",
    "\n",
    "sns.barplot(x = df.job_title, y = df.salary, width = 0.5)"
   ]
  },
  {
   "cell_type": "markdown",
   "id": "10bb3f1c",
   "metadata": {},
   "source": [
    "### In above graph it is clear that Analyst earns less on an average while Data scientists earns more. "
   ]
  },
  {
   "cell_type": "code",
   "execution_count": 30,
   "id": "5ffeceb4",
   "metadata": {},
   "outputs": [
    {
     "data": {
      "text/html": [
       "<div>\n",
       "<style scoped>\n",
       "    .dataframe tbody tr th:only-of-type {\n",
       "        vertical-align: middle;\n",
       "    }\n",
       "\n",
       "    .dataframe tbody tr th {\n",
       "        vertical-align: top;\n",
       "    }\n",
       "\n",
       "    .dataframe thead th {\n",
       "        text-align: right;\n",
       "    }\n",
       "</style>\n",
       "<table border=\"1\" class=\"dataframe\">\n",
       "  <thead>\n",
       "    <tr style=\"text-align: right;\">\n",
       "      <th></th>\n",
       "      <th>work_year</th>\n",
       "      <th>experience_level</th>\n",
       "      <th>employment_type</th>\n",
       "      <th>job_title</th>\n",
       "      <th>salary</th>\n",
       "      <th>salary_currency</th>\n",
       "      <th>salary_in_usd</th>\n",
       "      <th>employee_residence</th>\n",
       "      <th>company_location</th>\n",
       "      <th>company_size</th>\n",
       "      <th>work_environment</th>\n",
       "    </tr>\n",
       "  </thead>\n",
       "  <tbody>\n",
       "    <tr>\n",
       "      <th>0</th>\n",
       "      <td>2023</td>\n",
       "      <td>Senior</td>\n",
       "      <td>Full_time</td>\n",
       "      <td>Scientist</td>\n",
       "      <td>80000</td>\n",
       "      <td>EUR</td>\n",
       "      <td>85847</td>\n",
       "      <td>Spain</td>\n",
       "      <td>Spain</td>\n",
       "      <td>Large</td>\n",
       "      <td>Remote</td>\n",
       "    </tr>\n",
       "    <tr>\n",
       "      <th>1</th>\n",
       "      <td>2023</td>\n",
       "      <td>Mid_Level</td>\n",
       "      <td>Contract</td>\n",
       "      <td>Engineer</td>\n",
       "      <td>30000</td>\n",
       "      <td>USD</td>\n",
       "      <td>30000</td>\n",
       "      <td>United States</td>\n",
       "      <td>United States</td>\n",
       "      <td>Small</td>\n",
       "      <td>Remote</td>\n",
       "    </tr>\n",
       "  </tbody>\n",
       "</table>\n",
       "</div>"
      ],
      "text/plain": [
       "   work_year experience_level employment_type  job_title  salary  \\\n",
       "0       2023           Senior       Full_time  Scientist   80000   \n",
       "1       2023        Mid_Level        Contract   Engineer   30000   \n",
       "\n",
       "  salary_currency  salary_in_usd employee_residence company_location  \\\n",
       "0             EUR          85847              Spain            Spain   \n",
       "1             USD          30000      United States    United States   \n",
       "\n",
       "  company_size work_environment  \n",
       "0        Large           Remote  \n",
       "1        Small           Remote  "
      ]
     },
     "execution_count": 30,
     "metadata": {},
     "output_type": "execute_result"
    }
   ],
   "source": [
    "df.head(2)"
   ]
  },
  {
   "cell_type": "code",
   "execution_count": null,
   "id": "b1ac811e",
   "metadata": {},
   "outputs": [],
   "source": []
  },
  {
   "cell_type": "code",
   "execution_count": 31,
   "id": "642fb83c",
   "metadata": {},
   "outputs": [
    {
     "name": "stderr",
     "output_type": "stream",
     "text": [
      "C:\\Users\\nancy\\anaconda3\\lib\\site-packages\\seaborn\\axisgrid.py:118: UserWarning: The figure layout has changed to tight\n",
      "  self._figure.tight_layout(*args, **kwargs)\n"
     ]
    },
    {
     "data": {
      "text/plain": [
       "<seaborn.axisgrid.FacetGrid at 0x2b53a774d60>"
      ]
     },
     "execution_count": 31,
     "metadata": {},
     "output_type": "execute_result"
    },
    {
     "data": {
      "image/png": "[encoded data removed]",
      "text/plain": [
       "<Figure size 618.847x500 with 1 Axes>"
      ]
     },
     "metadata": {},
     "output_type": "display_data"
    }
   ],
   "source": [
    "## relation between salary, experience level according to company size.\n",
    "\n",
    "sns.catplot(data=df, kind=\"bar\", x=\"experience_level\", y=\"salary\", hue=\"company_size\")"
   ]
  },
  {
   "cell_type": "markdown",
   "id": "b56e6b9d",
   "metadata": {},
   "source": [
    "### From above graph it is clear that senior level employe has high salary in large company, mid level employee has high salary in small company and executive level employee has high salary in large company. Entry level candidates has average salary in varients of comapny size"
   ]
  },
  {
   "cell_type": "code",
   "execution_count": 32,
   "id": "b64e8f36",
   "metadata": {},
   "outputs": [
    {
     "name": "stderr",
     "output_type": "stream",
     "text": [
      "C:\\Users\\nancy\\anaconda3\\lib\\site-packages\\seaborn\\axisgrid.py:118: UserWarning: The figure layout has changed to tight\n",
      "  self._figure.tight_layout(*args, **kwargs)\n"
     ]
    },
    {
     "data": {
      "text/plain": [
       "<seaborn.axisgrid.FacetGrid at 0x2b541bd55d0>"
      ]
     },
     "execution_count": 32,
     "metadata": {},
     "output_type": "execute_result"
    },
    {
     "data": {
      "image/png": "[encoded data removed]",
      "text/plain": [
       "<Figure size 618.847x500 with 1 Axes>"
      ]
     },
     "metadata": {},
     "output_type": "display_data"
    }
   ],
   "source": [
    "## relation between salary, employment type according to company size.\n",
    "\n",
    "sns.catplot(data=df, kind=\"bar\", x=\"employment_type\", y=\"salary\", hue=\"company_size\")"
   ]
  },
  {
   "cell_type": "markdown",
   "id": "ae997d6e",
   "metadata": {},
   "source": [
    "### Above graph tells us that a person working for small company as freelance earns highest, while a employee working in large company on full_time basis earns little less than freelance employee."
   ]
  },
  {
   "cell_type": "code",
   "execution_count": 33,
   "id": "b227b3da",
   "metadata": {},
   "outputs": [
    {
     "name": "stderr",
     "output_type": "stream",
     "text": [
      "C:\\Users\\nancy\\anaconda3\\lib\\site-packages\\seaborn\\axisgrid.py:118: UserWarning: The figure layout has changed to tight\n",
      "  self._figure.tight_layout(*args, **kwargs)\n"
     ]
    },
    {
     "data": {
      "text/plain": [
       "<seaborn.axisgrid.FacetGrid at 0x2b540a0ed40>"
      ]
     },
     "execution_count": 33,
     "metadata": {},
     "output_type": "execute_result"
    },
    {
     "data": {
      "image/png": "[encoded data removed]",
      "text/plain": [
       "<Figure size 618.847x500 with 1 Axes>"
      ]
     },
     "metadata": {},
     "output_type": "display_data"
    }
   ],
   "source": [
    "sns.catplot(data=df, kind=\"bar\", x=\"job_title\", y=\"salary\", hue=\"company_size\")"
   ]
  },
  {
   "cell_type": "markdown",
   "id": "c301fc29",
   "metadata": {},
   "source": [
    "### Now above graph shows that data scientist and architect working in large company earns highest along with other category employees"
   ]
  },
  {
   "cell_type": "code",
   "execution_count": 34,
   "id": "5134a4e6",
   "metadata": {},
   "outputs": [
    {
     "name": "stderr",
     "output_type": "stream",
     "text": [
      "C:\\Users\\nancy\\anaconda3\\lib\\site-packages\\seaborn\\axisgrid.py:118: UserWarning: The figure layout has changed to tight\n",
      "  self._figure.tight_layout(*args, **kwargs)\n"
     ]
    },
    {
     "data": {
      "text/plain": [
       "<seaborn.axisgrid.FacetGrid at 0x2b541f65480>"
      ]
     },
     "execution_count": 34,
     "metadata": {},
     "output_type": "execute_result"
    },
    {
     "data": {
      "image/png": "[encoded data removed]",
      "text/plain": [
       "<Figure size 589.347x500 with 1 Axes>"
      ]
     },
     "metadata": {},
     "output_type": "display_data"
    }
   ],
   "source": [
    "sns.catplot(data=df, kind=\"bar\", x=\"job_title\", y=\"salary\", hue=\"work_year\")"
   ]
  },
  {
   "cell_type": "markdown",
   "id": "64e712b5",
   "metadata": {},
   "source": [
    "### In above graph the salary in year 2021 was highest for every job category, data scientist being the highest."
   ]
  },
  {
   "cell_type": "code",
   "execution_count": 38,
   "id": "50ced4fc",
   "metadata": {},
   "outputs": [
    {
     "name": "stderr",
     "output_type": "stream",
     "text": [
      "C:\\Users\\nancy\\anaconda3\\lib\\site-packages\\seaborn\\axisgrid.py:118: UserWarning: The figure layout has changed to tight\n",
      "  self._figure.tight_layout(*args, **kwargs)\n"
     ]
    },
    {
     "data": {
      "text/plain": [
       "<seaborn.axisgrid.FacetGrid at 0x2b541ef36a0>"
      ]
     },
     "execution_count": 38,
     "metadata": {},
     "output_type": "execute_result"
    },
    {
     "data": {
      "image/png": "[encoded data removed]",
      "text/plain": [
       "<Figure size 648.722x500 with 1 Axes>"
      ]
     },
     "metadata": {},
     "output_type": "display_data"
    }
   ],
   "source": [
    "sns.catplot(data=df, kind=\"bar\", x=\"job_title\", y=\"salary\", hue=\"work_environment\")"
   ]
  },
  {
   "cell_type": "markdown",
   "id": "fef5fc68",
   "metadata": {},
   "source": [
    "### Employees in other category working in hybrid category is earning highest followed by engineers. While data scientists working in remote location is earning highest."
   ]
  },
  {
   "cell_type": "code",
   "execution_count": 43,
   "id": "49ff434f",
   "metadata": {},
   "outputs": [],
   "source": [
    "df.to_excel('Cleaned_salary_data.xlsx', index = False)"
   ]
  },
  {
   "cell_type": "code",
   "execution_count": null,
   "id": "583c051a",
   "metadata": {},
   "outputs": [],
   "source": []
  }
 ],
 "metadata": {
  "kernelspec": {
   "display_name": "Python 3 (ipykernel)",
   "language": "python",
   "name": "python3"
  },
  "language_info": {
   "codemirror_mode": {
    "name": "ipython",
    "version": 3
   },
   "file_extension": ".py",
   "mimetype": "text/x-python",
   "name": "python",
   "nbconvert_exporter": "python",
   "pygments_lexer": "ipython3",
   "version": "3.10.13"
  }
 },
 "nbformat": 4,
 "nbformat_minor": 5
}
